{
 "cells": [
  {
   "cell_type": "code",
   "execution_count": 29,
   "metadata": {
    "collapsed": true
   },
   "outputs": [],
   "source": [
    "import jamo\n",
    "import Levenshtein\n",
    "import pandas as pd\n",
    "import re\n",
    "import numpy as np"
   ]
  },
  {
   "cell_type": "code",
   "execution_count": 8,
   "metadata": {},
   "outputs": [],
   "source": [
    "df = pd.read_csv('./temp_prd_name.tsv', names=['origin_prd_name'])"
   ]
  },
  {
   "cell_type": "code",
   "execution_count": 41,
   "metadata": {},
   "outputs": [],
   "source": [
    "df = df.drop_duplicates(subset=['origin_prd_name'])\n",
    "df = df.reset_index(drop=True)"
   ]
  },
  {
   "cell_type": "code",
   "execution_count": 42,
   "metadata": {},
   "outputs": [
    {
     "data": {
      "text/plain": [
       "71           DPC 이유리 스페셜아우라 시즌4 레오파드쿠션 리필\n35                 DPC 스킨럽 스파 클렌징 기기 특별세트\n75               [HONG SHOT] 홍진영 홍샷 컨실 팩트\n21    조성아 티엠 바운스업 파워 팩트 본품2+리필3+립라커1종+에코백\n51                     게리쏭 마유쿠션 본품 16g 2개\n4         [데싱디바] 매직프레스 슬림핏 프리미엄 에디션 ★최신상★\n32                   [어리틀레이지] 아이비 커버핏 빅쿠션\n79          DPC 이유리 스페셜아우라 시즌4 레오파드 쿠션 본품\n48             ★최신상 홀리데이 에디션/역대급 럭셔리 디자인★\n3                    ★NEW★ 차홍 올 힛 롤링 스타일러\n19                  비치웨이버 컬링 아이론 빅토리아 에디션\n56      [HONG SHOT] 홍진영 홍샷 파워래스팅 벨벳 틴트 세트\n26            ★상품평시 리필증정★ 아이비 빅 커버쿠션 특별세트\n54        [숏사이즈] 데싱디바 매직프레스 슬림핏 네일 로얄 컬렉션\n58         [HONG SHOT] 홍진영 홍샷 파워래스팅 벨벳 틴트\n55                DPC 이유리 루즈퓨르 슈에뜨 립스틱 세트\n64            닥터루인스 최신상 시즌3 0단계 코어세럼 슬림구성\n70                 퍼펙트스킨 마그네틱 커버 스틱 파운데이션\n23                   NEW 탱글티저 퀵드라이 볼륨 브러쉬\n81                     조성아 파워링 바운스업 팩트 리필\nName: origin_prd_name, dtype: object"
      ]
     },
     "execution_count": 42,
     "metadata": {},
     "output_type": "execute_result"
    }
   ],
   "source": [
    "df.origin_prd_name.sample(20)"
   ]
  },
  {
   "cell_type": "code",
   "execution_count": 43,
   "metadata": {},
   "outputs": [],
   "source": [
    "df['prd_name'] = df.origin_prd_name.apply(lambda x: re.sub(pattern='★|\\d|\\[|\\]|\\*|ml|시즌|박스|\\+', repl=\" \", string = x))\n",
    "df['prd_name'] = df.prd_name.apply(lambda x: re.sub(pattern='( )+', repl=\" \", string = x))\n"
   ]
  },
  {
   "cell_type": "code",
   "execution_count": 44,
   "metadata": {},
   "outputs": [],
   "source": [
    "df['prd_name_jaso'] = df.prd_name.apply(lambda x: jamo.sentence_to_jaso(x))\n"
   ]
  },
  {
   "cell_type": "code",
   "execution_count": 45,
   "metadata": {},
   "outputs": [],
   "source": [
    "jaso_list = df['prd_name_jaso'].tolist()\n",
    "sent_list = df['prd_name'].tolist()\n",
    "\n",
    "\n",
    "def distance_list(row):\n",
    "    jaso = row['prd_name_jaso']\n",
    "    sent = row['prd_name']\n",
    "    jaso_score = [Levenshtein.distance(jaso, prd) for prd in jaso_list]\n",
    "    sent_score = [Levenshtein.distance(sent, prd) for prd in sent_list]\n",
    "    row['jaso_score'] = [jaso_score]\n",
    "    row['sent_score'] = [sent_score]\n",
    "    return row   "
   ]
  },
  {
   "cell_type": "code",
   "execution_count": 46,
   "metadata": {},
   "outputs": [],
   "source": [
    "df = df.apply(lambda row: distance_list(row), axis=1)\n"
   ]
  },
  {
   "cell_type": "code",
   "execution_count": 47,
   "metadata": {},
   "outputs": [],
   "source": [
    "df.sent_score = df.sent_score.apply(lambda x: x[0])\n",
    "df.jaso_score = df.jaso_score.apply(lambda x: x[0])"
   ]
  },
  {
   "cell_type": "code",
   "execution_count": 48,
   "metadata": {},
   "outputs": [],
   "source": [
    "def get_min_arg_num(score):\n",
    "    arr_score = np.array(score)\n",
    "    min_scores = arr_score.argsort()[1:5]\n",
    "    return [min_scores]\n",
    "\n",
    "\n",
    "df['min_sent_idx'] = df.sent_score.apply(lambda score: get_min_arg_num(score)[0])\n",
    "df['min_jaso_idx'] = df.jaso_score.apply(lambda score: get_min_arg_num(score)[0])"
   ]
  },
  {
   "cell_type": "code",
   "execution_count": 51,
   "metadata": {},
   "outputs": [
    {
     "name": "stdout",
     "output_type": "stream",
     "text": [
      " NEW 차홍 올 힛 롤링 스타일러\n8      NEW 차홍 올 힛 롤링 스타일러 롤 개\n23       NEW 탱글티저 퀵드라이 볼륨 브러쉬\n1          차홍 올 힛 스타일러 블랙에디션 \n22       NEW 데싱디바 젤스트립 엣지 컬렉션\nName: prd_name, dtype: object\n\n\n\n차홍 올 힛 스타일러 고데기 블랙에디션 Q \n1                      차홍 올 힛 스타일러 블랙에디션 \n2                   차홍 올 힛 스타일러 크리스탈 에디션 \n10    차홍 올 힛 스타일러 고데기 스와로브스키 크리스탈 에디션 Q- \n17       차홍 올 힛 스타일러 고데기 스와로브스키 크리스탈 에디션 \nName: prd_name, dtype: object\n\n\n\n 상품평시 리필증정 아이비 빅 커버쿠션 특별세트\n24     어리틀레이지 아이비 빅 커버쿠션 특별세트\n38            아이비 빅 커버쿠션 특별세트\n25       어리틀레이지 아이비 빅 커버쿠션 본품\n69       어리틀레이지 아이비 빅 커버쿠션 리필\nName: prd_name, dtype: object\n\n\n\n HONG SHOT 홍진영 홍샷 컨실 팩트\n58        HONG SHOT 홍진영 홍샷 파워래스팅 벨벳 틴트\n34        HONG SHOT 홍진영 홍샷 파워래스팅 파운데이션\n28       HONG SHOT 홍진영 홍샷 파워래스팅 파운데이션 \n56     HONG SHOT 홍진영 홍샷 파워래스팅 벨벳 틴트 세트\nName: prd_name, dtype: object\n\n\n\n게리쏭 마유쿠션 본품 g 개\n57               게리쏭 컴플렉스 마유크림 세트\n52    게리쏭 마유쿠션 본품 개 리필 개 마유크림 g 개\n72                아이비 빅 커버쿠션 슬림구성\n38                아이비 빅 커버쿠션 특별세트\nName: prd_name, dtype: object\n\n\n\nDPC 이유리 쿠션 블랙에디션 특집구성\n45         DPC 이유리 스페셜아우라 쿠션 \n66        DPC 이유리 스페셜 아우라 쿠션 \n40    DPC 이유리 스페셜아우라 쿠션 최초공개!\n35     DPC 스킨럽 스파 클렌징 기기 특별세트\nName: prd_name, dtype: object\n\n\n\n 퍼펙트스킨 마그네틱 커버 스틱 파운데이션\n70         퍼펙트스킨 마그네틱 커버 스틱 파운데이션\n82      퍼펙트스킨 마그네틱 커버 스틱 파운데이션 단품\n33     퍼펙트스킨X김우리 마그네틱 커버 스틱 파운데이션\n32             어리틀레이지 아이비 커버핏 빅쿠션\nName: prd_name, dtype: object\n\n\n\n실크테라피 인퓨전 \n36    실크테라피 인리치드 액션 개 개 개\n38        아이비 빅 커버쿠션 특별세트\n72        아이비 빅 커버쿠션 슬림구성\n51        게리쏭 마유쿠션 본품 g 개\nName: prd_name, dtype: object\n\n\n\nDPC 이유리 스페셜 아우라 쿠션 \n45          DPC 이유리 스페셜아우라 쿠션 \n47      DPC 이유리 스페셜아우라 핑크쿠션 리필\n50     최신상 DPC 이유리 스페셜 아우라 쿠션 \n65      DPC 이유리 스페셜아우라 핑크쿠션 본품\nName: prd_name, dtype: object\n\n\n\n최신상 실크테라피 인리치드 액션 개 개 개\n36     실크테라피 인리치드 액션 개 개 개\n62              실크테라피 인퓨전 \n51         게리쏭 마유쿠션 본품 g 개\n13    JMW 팬텀 프라임 드라이기 MS C\nName: prd_name, dtype: object\n\n\n\nNEW 데싱디바 젤스트립 엣지 컬렉션\n0             데싱디바 젤스트립 디어뮤즈 컬렉션\n11         데싱디바 젤스트립 디어뮤즈 컬렉션 세트\n23          NEW 탱글티저 퀵드라이 볼륨 브러쉬\n31    데싱디바 젤스트립 엣지 컬렉션 네일 팩 페디 팩\nName: prd_name, dtype: object\n\n\n\n차홍 올 힛 스타일러 고데기 스와로브스키 크리스탈 에디션 Q- \n17    차홍 올 힛 스타일러 고데기 스와로브스키 크리스탈 에디션 \n9             차홍 올 힛 스타일러 고데기 블랙에디션 Q \n2                차홍 올 힛 스타일러 크리스탈 에디션 \n1                   차홍 올 힛 스타일러 블랙에디션 \nName: prd_name, dtype: object\n\n\n\n 퍼펙트스킨X김우리 마그네틱 커버 스틱 파운데이션\n84           퍼펙트스킨 마그네틱 커버 스틱 파운데이션\n70           퍼펙트스킨 마그네틱 커버 스틱 파운데이션\n82        퍼펙트스킨 마그네틱 커버 스틱 파운데이션 단품\n34     HONG SHOT 홍진영 홍샷 파워래스팅 파운데이션\nName: prd_name, dtype: object\n\n\n\n비치웨이버 컬링 아이론 빅토리아 에디션\n32       어리틀레이지 아이비 커버핏 빅쿠션\n53        DPC 스킨아이론 스페셜 패키지\n2     차홍 올 힛 스타일러 크리스탈 에디션 \n29       데싱디바 슬림핏 프리미엄 에디션 \nName: prd_name, dtype: object\n\n\n\n데싱디바 슬림핏 프리미엄 에디션 \n12            데싱디바 매직프레스 프리미엄 페디큐어 \n63      데싱디바 매직프레스 슬림핏 프리미엄 쥬얼 에디션 \n15          데싱디바 매직프레스 네일 프리미엄 슬림핏 \n4      데싱디바 매직프레스 슬림핏 프리미엄 에디션 최신상 \nName: prd_name, dtype: object\n\n\n\n조성아 파워링 바운스업 팩트 리필\n83    DPC 스킨럽 스파 클렌징 기기\n38      아이비 빅 커버쿠션 특별세트\n72      아이비 빅 커버쿠션 슬림구성\n51      게리쏭 마유쿠션 본품 g 개\nName: prd_name, dtype: object\n\n\n\n실크테라피 인리치드 액션 개 개 개\n60    최신상 실크테라피 인리치드 액션 개 개 개\n62                 실크테라피 인퓨전 \n51            게리쏭 마유쿠션 본품 g 개\n0          데싱디바 젤스트립 디어뮤즈 컬렉션\nName: prd_name, dtype: object\n\n\n\n퍼펙트스킨 마그네틱 커버 스틱 파운데이션\n84         퍼펙트스킨 마그네틱 커버 스틱 파운데이션\n82      퍼펙트스킨 마그네틱 커버 스틱 파운데이션 단품\n33     퍼펙트스킨X김우리 마그네틱 커버 스틱 파운데이션\n72                아이비 빅 커버쿠션 슬림구성\nName: prd_name, dtype: object\n\n\n\n데싱디바 글로스 젤네일 스트립 프리미엄 컬렉션\n0          데싱디바 젤스트립 디어뮤즈 컬렉션\n15    데싱디바 매직프레스 네일 프리미엄 슬림핏 \n29         데싱디바 슬림핏 프리미엄 에디션 \n11      데싱디바 젤스트립 디어뮤즈 컬렉션 세트\nName: prd_name, dtype: object\n\n\n\nNEW 데싱디바 프리미엄 페디큐어 썸머 패키지 ( )\n14    NEW 데싱디바 매직프레스 프리미엄 페디큐어 썸머 패키지\n22               NEW 데싱디바 젤스트립 엣지 컬렉션\n0                  데싱디바 젤스트립 디어뮤즈 컬렉션\n20     NEW 데싱디바 매직프레스 슬림핏 프리미엄 썸머에디션 \nName: prd_name, dtype: object\n\n\n\n"
     ]
    }
   ],
   "source": [
    "for i, v in df.sample(20).iterrows():\n",
    "    sent_idx_list = v['min_sent_idx']\n",
    "    print(df.loc[i, 'prd_name'])\n",
    "    print(df.loc[sent_idx_list, 'prd_name'])\n",
    "    print('\\n\\n')"
   ]
  },
  {
   "cell_type": "code",
   "execution_count": 52,
   "metadata": {},
   "outputs": [
    {
     "name": "stdout",
     "output_type": "stream",
     "text": [
      "데싱디바 글로스 젤네일 스트립 프리미엄 컬렉션\n0          데싱디바 젤스트립 디어뮤즈 컬렉션\n22       NEW 데싱디바 젤스트립 엣지 컬렉션\n15    데싱디바 매직프레스 네일 프리미엄 슬림핏 \n29         데싱디바 슬림핏 프리미엄 에디션 \nName: prd_name, dtype: object\n\n\n\n HONG SHOT 홍진영 홍샷 파워래스팅 벨벳 틴트\n56     HONG SHOT 홍진영 홍샷 파워래스팅 벨벳 틴트 세트\n34        HONG SHOT 홍진영 홍샷 파워래스팅 파운데이션\n28       HONG SHOT 홍진영 홍샷 파워래스팅 파운데이션 \n75              HONG SHOT 홍진영 홍샷 컨실 팩트\nName: prd_name, dtype: object\n\n\n\n 퍼펙트스킨X김우리 마그네틱 커버 스틱 파운데이션\n84           퍼펙트스킨 마그네틱 커버 스틱 파운데이션\n70           퍼펙트스킨 마그네틱 커버 스틱 파운데이션\n82        퍼펙트스킨 마그네틱 커버 스틱 파운데이션 단품\n34     HONG SHOT 홍진영 홍샷 파워래스팅 파운데이션\nName: prd_name, dtype: object\n\n\n\n 어리틀레이지 아이비 빅 커버쿠션 본품\n69       어리틀레이지 아이비 빅 커버쿠션 리필\n24     어리틀레이지 아이비 빅 커버쿠션 특별세트\n32         어리틀레이지 아이비 커버핏 빅쿠션\n43       어리틀레이지 아이비 솔리드 퍼퓸 스틱\nName: prd_name, dtype: object\n\n\n\nDPC 이유리 스페셜 아우라쿠션 본품 리필 체험 세트\n66        DPC 이유리 스페셜 아우라 쿠션 \n40    DPC 이유리 스페셜아우라 쿠션 최초공개!\n65     DPC 이유리 스페셜아우라 핑크쿠션 본품\n47     DPC 이유리 스페셜아우라 핑크쿠션 리필\nName: prd_name, dtype: object\n\n\n\n게리쏭 마유쿠션 본품 개 리필 개 마유크림 g 개\n51                  게리쏭 마유쿠션 본품 g 개\n57                 게리쏭 컴플렉스 마유크림 세트\n29               데싱디바 슬림핏 프리미엄 에디션 \n49    DPC 이유리 스페셜 아우라쿠션 본품 리필 체험 세트\nName: prd_name, dtype: object\n\n\n\n HONG SHOT 홍진영 홍샷 컨실 팩트\n58        HONG SHOT 홍진영 홍샷 파워래스팅 벨벳 틴트\n34        HONG SHOT 홍진영 홍샷 파워래스팅 파운데이션\n28       HONG SHOT 홍진영 홍샷 파워래스팅 파운데이션 \n56     HONG SHOT 홍진영 홍샷 파워래스팅 벨벳 틴트 세트\nName: prd_name, dtype: object\n\n\n\n퍼펙트스킨 마그네틱 커버 스틱 파운데이션 단품\n70         퍼펙트스킨 마그네틱 커버 스틱 파운데이션\n84         퍼펙트스킨 마그네틱 커버 스틱 파운데이션\n33     퍼펙트스킨X김우리 마그네틱 커버 스틱 파운데이션\n25           어리틀레이지 아이비 빅 커버쿠션 본품\nName: prd_name, dtype: object\n\n\n\nNEW 데싱디바 매직프레스 슬림핏 프리미엄 썸머에디션 \n63        데싱디바 매직프레스 슬림핏 프리미엄 쥬얼 에디션 \n4        데싱디바 매직프레스 슬림핏 프리미엄 에디션 최신상 \n14    NEW 데싱디바 매직프레스 프리미엄 페디큐어 썸머 패키지\n29                 데싱디바 슬림핏 프리미엄 에디션 \nName: prd_name, dtype: object\n\n\n\n데싱디바 페디큐어 BON VOYAGE 에디션 \n29       데싱디바 슬림핏 프리미엄 에디션 \n12    데싱디바 매직프레스 프리미엄 페디큐어 \n0        데싱디바 젤스트립 디어뮤즈 컬렉션\n22     NEW 데싱디바 젤스트립 엣지 컬렉션\nName: prd_name, dtype: object\n\n\n\n NEW 차홍 올 힛 롤링 스타일러\n8      NEW 차홍 올 힛 롤링 스타일러 롤 개\n1          차홍 올 힛 스타일러 블랙에디션 \n2       차홍 올 힛 스타일러 크리스탈 에디션 \n13       JMW 팬텀 프라임 드라이기 MS C\nName: prd_name, dtype: object\n\n\n\n 유토렉스 자바스 고데기 세트 (고데기 대 가이드북)\n16    유토렉스 자바스 고데기 세트 UHS- G (고데기 대 가이드북)\n76                     유토렉스 쎄라즈 매직 볼륨에센스 \n3                      NEW 차홍 올 힛 롤링 스타일러\n43                   어리틀레이지 아이비 솔리드 퍼퓸 스틱\nName: prd_name, dtype: object\n\n\n\n 상품평시 리필증정 아이비 빅 커버쿠션 특별세트\n24     어리틀레이지 아이비 빅 커버쿠션 특별세트\n38            아이비 빅 커버쿠션 특별세트\n25       어리틀레이지 아이비 빅 커버쿠션 본품\n69       어리틀레이지 아이비 빅 커버쿠션 리필\nName: prd_name, dtype: object\n\n\n\nDPC 이유리 스페셜아우라 핑크쿠션 본품\n47       DPC 이유리 스페셜아우라 핑크쿠션 리필\n79    DPC 이유리 스페셜아우라 레오파드 쿠션 본품\n45           DPC 이유리 스페셜아우라 쿠션 \n71     DPC 이유리 스페셜아우라 레오파드쿠션 리필\nName: prd_name, dtype: object\n\n\n\n데싱디바 매직프레스 네일 프리미엄 슬림핏 프렙패드 매 파일 점착패드 매\n6     데싱디바 매직프레스 페디큐어 프렙패드 네일 파일 점착패드\n15            데싱디바 매직프레스 네일 프리미엄 슬림핏 \n63        데싱디바 매직프레스 슬림핏 프리미엄 쥬얼 에디션 \n4        데싱디바 매직프레스 슬림핏 프리미엄 에디션 최신상 \nName: prd_name, dtype: object\n\n\n\nDPC 이유리 스페셜아우라 레오파드 쿠션 본품\n71    DPC 이유리 스페셜아우라 레오파드쿠션 리필\n65      DPC 이유리 스페셜아우라 핑크쿠션 본품\n47      DPC 이유리 스페셜아우라 핑크쿠션 리필\n45          DPC 이유리 스페셜아우라 쿠션 \nName: prd_name, dtype: object\n\n\n\nDPC 스킨럽 스파 클렌징 기기 특별세트\n83          DPC 스킨럽 스파 클렌징 기기\n61        DPC 스킨아이론 런칭 특별 패키지\n55    DPC 이유리 루즈퓨르 슈에뜨 립스틱 세트\n38            아이비 빅 커버쿠션 특별세트\nName: prd_name, dtype: object\n\n\n\n게리쏭 컴플렉스 마유크림 세트\n51        게리쏭 마유쿠션 본품 g 개\n38        아이비 빅 커버쿠션 특별세트\n45     DPC 이유리 스페셜아우라 쿠션 \n66    DPC 이유리 스페셜 아우라 쿠션 \nName: prd_name, dtype: object\n\n\n\nDPC 이유리 스페셜아우라 쿠션 최초공개!\n45        DPC 이유리 스페셜아우라 쿠션 \n66       DPC 이유리 스페셜 아우라 쿠션 \n65    DPC 이유리 스페셜아우라 핑크쿠션 본품\n47    DPC 이유리 스페셜아우라 핑크쿠션 리필\nName: prd_name, dtype: object\n\n\n\n실크테라피 인퓨전 \n36     실크테라피 인리치드 액션 개 개 개\n51         게리쏭 마유쿠션 본품 g 개\n45      DPC 이유리 스페셜아우라 쿠션 \n13    JMW 팬텀 프라임 드라이기 MS C\nName: prd_name, dtype: object\n\n\n\n"
     ]
    }
   ],
   "source": [
    "for i, v in df.sample(20).iterrows():\n",
    "    sent_idx_list = v['min_jaso_idx']\n",
    "    print(df.loc[i, 'prd_name'])\n",
    "    print(df.loc[sent_idx_list, 'prd_name'])\n",
    "    print('\\n\\n')"
   ]
  }
 ],
 "metadata": {
  "kernelspec": {
   "display_name": "Python 2",
   "language": "python",
   "name": "python2"
  },
  "language_info": {
   "codemirror_mode": {
    "name": "ipython",
    "version": 2
   },
   "file_extension": ".py",
   "mimetype": "text/x-python",
   "name": "python",
   "nbconvert_exporter": "python",
   "pygments_lexer": "ipython2",
   "version": "2.7.6"
  }
 },
 "nbformat": 4,
 "nbformat_minor": 0
}
